{
 "cells": [
  {
   "cell_type": "code",
   "execution_count": 1,
   "id": "f04e4ed0-395f-4640-979a-10989cc97e36",
   "metadata": {},
   "outputs": [
    {
     "ename": "FileNotFoundError",
     "evalue": "[Errno 2] No such file or directory: '**'",
     "output_type": "error",
     "traceback": [
      "\u001b[0;31m---------------------------------------------------------------------------\u001b[0m",
      "\u001b[0;31mFileNotFoundError\u001b[0m                         Traceback (most recent call last)",
      "Cell \u001b[0;32mIn[1], line 10\u001b[0m\n\u001b[1;32m      7\u001b[0m new_directory_1 \u001b[38;5;241m=\u001b[39m \u001b[38;5;124m\"\u001b[39m\u001b[38;5;124m**\u001b[39m\u001b[38;5;124m\"\u001b[39m\n\u001b[1;32m      8\u001b[0m new_directory_2 \u001b[38;5;241m=\u001b[39m \u001b[38;5;124m\"\u001b[39m\u001b[38;5;124m**\u001b[39m\u001b[38;5;124m\"\u001b[39m\n\u001b[0;32m---> 10\u001b[0m \u001b[43mos\u001b[49m\u001b[38;5;241;43m.\u001b[39;49m\u001b[43mchdir\u001b[49m\u001b[43m(\u001b[49m\u001b[38;5;124;43m'\u001b[39;49m\u001b[38;5;124;43m**\u001b[39;49m\u001b[38;5;124;43m'\u001b[39;49m\u001b[43m)\u001b[49m\n\u001b[1;32m     11\u001b[0m os\u001b[38;5;241m.\u001b[39mmkdir(\u001b[38;5;124m'\u001b[39m\u001b[38;5;124m**\u001b[39m\u001b[38;5;124m'\u001b[39m)\n\u001b[1;32m     13\u001b[0m \u001b[38;5;28;01mfor\u001b[39;00m filename \u001b[38;5;129;01min\u001b[39;00m os\u001b[38;5;241m.\u001b[39mlistdir(old_directory):\n",
      "\u001b[0;31mFileNotFoundError\u001b[0m: [Errno 2] No such file or directory: '**'"
     ]
    }
   ],
   "source": [
    "import os\n",
    "import shutil\n",
    "import subprocess\n",
    "import pandas\n",
    "\n",
    "old_directory = \"**\"\n",
    "new_directory_1 = \"**\"\n",
    "new_directory_2 = \"**\"\n",
    "\n",
    "os.chdir('**')\n",
    "os.mkdir('**')\n",
    "\n",
    "for filename in os.listdir(old_directory):\n",
    "    if filename.endswith(\".tif\"):\n",
    "        source = os.path.join(old_directory, filename)\n",
    "        destination = os.path.join(new_directory_1, filename)\n",
    "        dest = shutil.move(source, destination)\n",
    "       \n",
    "os.chdir('**')\n",
    "os.mkdir('jpeg')\n",
    "\n",
    "for filename in os.listdir(old_directory):\n",
    "    if filename.endswith(\".jpg\"):\n",
    "        source = os.path.join(old_directory, filename)\n",
    "        destination = os.path.join(new_directory_2, filename)\n",
    "        dest = shutil.move(source, destination)"
   ]
  },
  {
   "cell_type": "code",
   "execution_count": null,
   "id": "c8f2b16a-358d-436e-abf9-635e8538fff7",
   "metadata": {},
   "outputs": [],
   "source": []
  }
 ],
 "metadata": {
  "kernelspec": {
   "display_name": "Python 3 (ipykernel)",
   "language": "python",
   "name": "python3"
  },
  "language_info": {
   "codemirror_mode": {
    "name": "ipython",
    "version": 3
   },
   "file_extension": ".py",
   "mimetype": "text/x-python",
   "name": "python",
   "nbconvert_exporter": "python",
   "pygments_lexer": "ipython3",
   "version": "3.11.5"
  },
  "widgets": {
   "application/vnd.jupyter.widget-state+json": {
    "state": {},
    "version_major": 2,
    "version_minor": 0
   }
  }
 },
 "nbformat": 4,
 "nbformat_minor": 5
}
